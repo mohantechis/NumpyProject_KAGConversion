{
  "nbformat": 4,
  "nbformat_minor": 0,
  "metadata": {
    "colab": {
      "name": "NumpyProject.ipynb",
      "provenance": [],
      "collapsed_sections": []
    },
    "kernelspec": {
      "display_name": "Python 3",
      "name": "python3"
    },
    "language_info": {
      "name": "python"
    }
  },
  "cells": [
    {
      "cell_type": "markdown",
      "metadata": {
        "id": "_qsHpFzim3ch"
      },
      "source": [
        "Load the data."
      ]
    },
    {
      "cell_type": "code",
      "metadata": {
        "colab": {
          "base_uri": "https://localhost:8080/"
        },
        "id": "qWcx9Lr9bTM1",
        "outputId": "5048711c-93f2-48c8-8eac-adff2d442844"
      },
      "source": [
        "#importing numpy library\n",
        "import numpy as np\n",
        "data_file=\"/content/KAG_Conversion_Data.csv\"\n",
        "data=np.genfromtxt(data_file,delimiter=',',encoding=None,skip_header=1,dtype=str)\n",
        "data1=np.genfromtxt(data_file,delimiter=\",\",dtype=float,skip_header=1)\n",
        "print(\"Data:\\n\",data)\n"
      ],
      "execution_count": null,
      "outputs": [
        {
          "output_type": "stream",
          "name": "stdout",
          "text": [
            "Data:\n",
            " [['708746' '916' '103916' ... '1.429999948' '2' '1']\n",
            " ['708749' '916' '103917' ... '1.820000023' '2' '0']\n",
            " ['708771' '916' '103920' ... '0' '1' '0']\n",
            " ...\n",
            " ['1314412' '1178' '179979' ... '40.28999949' '2' '0']\n",
            " ['1314414' '1178' '179981' ... '198.7100005' '8' '2']\n",
            " ['1314415' '1178' '179982' ... '165.6099987' '5' '2']]\n"
          ]
        }
      ]
    },
    {
      "cell_type": "code",
      "metadata": {
        "colab": {
          "base_uri": "https://localhost:8080/"
        },
        "id": "EuCwPlOFcZTI",
        "outputId": "872e3309-2d8b-42df-8952-265ddc8c531d"
      },
      "source": [
        "#Checking The Length of Data\n",
        "len=data.size\n",
        "print(len)"
      ],
      "execution_count": null,
      "outputs": [
        {
          "output_type": "stream",
          "name": "stdout",
          "text": [
            "12573\n"
          ]
        }
      ]
    },
    {
      "cell_type": "markdown",
      "metadata": {
        "id": "_SKmNzBAVrxc"
      },
      "source": [
        "How many unique ad campaigns (xyzcampaignid) does this data contain ? And for how many times was each campaign run ?"
      ]
    },
    {
      "cell_type": "code",
      "metadata": {
        "colab": {
          "base_uri": "https://localhost:8080/"
        },
        "id": "Z_dELn7ve_He",
        "outputId": "fecf8693-6e82-43c1-c388-751615969311"
      },
      "source": [
        "#storing the unique ad id \n",
        "import numpy as np\n",
        "x=data[:,1]\n",
        "unique_id=np.unique(x)\n",
        "print(\"Unique Ids: \",unique_id)\n",
        "print(\"Total Unique Ids: \",unique_id.size)"
      ],
      "execution_count": null,
      "outputs": [
        {
          "output_type": "stream",
          "name": "stdout",
          "text": [
            "Unique Ids:  ['1178' '916' '936']\n",
            "Total Unique Ids:  3\n"
          ]
        }
      ]
    },
    {
      "cell_type": "code",
      "metadata": {
        "colab": {
          "base_uri": "https://localhost:8080/"
        },
        "id": "zdoDy-jphkEL",
        "outputId": "b2433c28-5caa-4513-8782-6522fca2cec6"
      },
      "source": [
        "#number of times the campaign with id 916 run\n",
        "impression = data[:,6]\n",
        "sum=0\n",
        "for i in unique_id:\n",
        "  for j in x:\n",
        "    if i==j:\n",
        "      sum+=1\n",
        "  print(\"This {} id run {} Times\".format(i,sum))\n"
      ],
      "execution_count": null,
      "outputs": [
        {
          "output_type": "stream",
          "name": "stdout",
          "text": [
            "This 1178 id run 625 Times\n",
            "This 916 id run 679 Times\n",
            "This 936 id run 1143 Times\n"
          ]
        }
      ]
    },
    {
      "cell_type": "markdown",
      "metadata": {
        "id": "OtfNc5LGXe8K"
      },
      "source": [
        "What are the age groups that were targeted through these ad campaigns?"
      ]
    },
    {
      "cell_type": "code",
      "metadata": {
        "colab": {
          "base_uri": "https://localhost:8080/"
        },
        "id": "gZ8C4Iehw8PH",
        "outputId": "56884c0c-fb62-42df-a762-93869d676f1e"
      },
      "source": [
        "age_groups=data[:,3]\n",
        "print(\"Age Group Targeted: \",np.unique(age_groups))"
      ],
      "execution_count": null,
      "outputs": [
        {
          "output_type": "stream",
          "name": "stdout",
          "text": [
            "Age Group Targeted:  ['30-34' '35-39' '40-44' '45-49']\n"
          ]
        }
      ]
    },
    {
      "cell_type": "markdown",
      "metadata": {
        "id": "71G-v8ITXmVH"
      },
      "source": [
        "What was the average, minimum and maximum amount spent on the ads?"
      ]
    },
    {
      "cell_type": "code",
      "metadata": {
        "colab": {
          "base_uri": "https://localhost:8080/"
        },
        "id": "3NiVSfpntHvz",
        "outputId": "e5ad16dd-1a5e-4b3c-f09a-a2395889e9c1"
      },
      "source": [
        "spent=data1[:,8]\n",
        "print(spent)"
      ],
      "execution_count": null,
      "outputs": [
        {
          "output_type": "stream",
          "name": "stdout",
          "text": [
            "[  1.42999995   1.82000002   0.         ...  40.28999949 198.7100005\n",
            " 165.6099987 ]\n"
          ]
        }
      ]
    },
    {
      "cell_type": "code",
      "metadata": {
        "colab": {
          "base_uri": "https://localhost:8080/"
        },
        "id": "rrf0RS3265Q3",
        "outputId": "39f9be9f-f415-4fc9-b0fb-2dac334d9237"
      },
      "source": [
        "print(\"Minimum Amount Spent\",np.min(spent))\n",
        "print(\"Maximum Amount Spent\",np.max(spent))"
      ],
      "execution_count": null,
      "outputs": [
        {
          "output_type": "stream",
          "name": "stdout",
          "text": [
            "Minimum Amount Spent 0.0\n",
            "Maximum Amount Spent 639.9499981\n"
          ]
        }
      ]
    },
    {
      "cell_type": "markdown",
      "metadata": {
        "id": "HAaxLcoTXzTD"
      },
      "source": [
        "What is the id of the ad having the maximum number of clicks ?"
      ]
    },
    {
      "cell_type": "code",
      "metadata": {
        "colab": {
          "base_uri": "https://localhost:8080/"
        },
        "id": "ZVCDtNVW4CQF",
        "outputId": "c6f33010-2827-4b7d-f52c-38a60a447764"
      },
      "source": [
        "max_clicks=int(np.max(data1[:,7]))\n",
        "max_clicks\n"
      ],
      "execution_count": null,
      "outputs": [
        {
          "output_type": "execute_result",
          "data": {
            "text/plain": [
              "421"
            ]
          },
          "metadata": {},
          "execution_count": 133
        }
      ]
    },
    {
      "cell_type": "code",
      "metadata": {
        "colab": {
          "base_uri": "https://localhost:8080/"
        },
        "id": "6NbC-DJM-6b4",
        "outputId": "886987ee-ab01-4403-8b42-f1e3c58041da"
      },
      "source": [
        "int(data1[:,0][data1[:,7]==421])\n"
      ],
      "execution_count": null,
      "outputs": [
        {
          "output_type": "execute_result",
          "data": {
            "text/plain": [
              "1121814"
            ]
          },
          "metadata": {},
          "execution_count": 136
        }
      ]
    },
    {
      "cell_type": "code",
      "metadata": {
        "colab": {
          "base_uri": "https://localhost:8080/"
        },
        "id": "8nZbU1Ib_Lmn",
        "outputId": "ccebde52-2f3a-49b4-c357-fda5b1ecbdb4"
      },
      "source": [
        "int(data1[:,10][data1[:,7]==421])"
      ],
      "execution_count": null,
      "outputs": [
        {
          "output_type": "execute_result",
          "data": {
            "text/plain": [
              "13"
            ]
          },
          "metadata": {},
          "execution_count": 137
        }
      ]
    },
    {
      "cell_type": "markdown",
      "metadata": {
        "id": "aMxqXc9ZZD5Q"
      },
      "source": [
        "How many people bought the product after seeing the ad with most clicks? Is that the maximum number of purchases in this dataset?"
      ]
    },
    {
      "cell_type": "code",
      "metadata": {
        "colab": {
          "base_uri": "https://localhost:8080/"
        },
        "id": "3ed3aIBb_onb",
        "outputId": "096b440d-a468-4730-fc3f-3e2c65180738"
      },
      "source": [
        "max_purchase=np.max(data1[:,10])\n",
        "max_purchase"
      ],
      "execution_count": null,
      "outputs": [
        {
          "output_type": "execute_result",
          "data": {
            "text/plain": [
              "21.0"
            ]
          },
          "metadata": {},
          "execution_count": 139
        }
      ]
    },
    {
      "cell_type": "markdown",
      "metadata": {
        "id": "NKZs-Mn_ZKu6"
      },
      "source": [
        "So the ad with the most clicks didn't fetch the maximum number of purchases. Find the details of the product having maximum number of purchases"
      ]
    },
    {
      "cell_type": "code",
      "metadata": {
        "colab": {
          "base_uri": "https://localhost:8080/"
        },
        "id": "YDThyzCR_w3w",
        "outputId": "41bdee78-043d-4482-b2b8-2dff7ff43458"
      },
      "source": [
        "data[data[:,10]==\"21\"]"
      ],
      "execution_count": null,
      "outputs": [
        {
          "output_type": "execute_result",
          "data": {
            "text/plain": [
              "array([['1121104', '1178', '144533', '30-34', 'M', '16', '2080666',\n",
              "        '202', '360.1500015', '40', '21']], dtype='<U11')"
            ]
          },
          "metadata": {},
          "execution_count": 140
        }
      ]
    }
  ]
}